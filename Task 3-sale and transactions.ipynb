{
 "cells": [
  {
   "cell_type": "code",
   "execution_count": 3,
   "metadata": {},
   "outputs": [
    {
     "name": "stdout",
     "output_type": "stream",
     "text": [
      "[[  7.175312 -35.658737]\n",
      " [ -9.572882 -11.097715]\n",
      " [  5.64966  -31.73916 ]\n",
      " ...\n",
      " [-15.485295  14.712789]\n",
      " [-11.89818   15.338238]\n",
      " [-15.904801  27.170012]]\n"
     ]
    }
   ],
   "source": [
    "import numpy as np\n",
    "import pandas as pd\n",
    "from sklearn.manifold import TSNE\n",
    "from sklearn.datasets import make_blobs\n",
    "from sklearn.metrics import silhouette_samples\n",
    "from sklearn.metrics import silhouette_score\n",
    "import matplotlib.pyplot as plt\n",
    "import matplotlib as mpl\n",
    "import datetime\n",
    "from matplotlib.ticker import FixedLocator, FixedFormatter\n",
    "from pylab import rcParams\n",
    "import time\n",
    "\n",
    "\n",
    "#Importing data\n",
    "data_raw = pd.read_csv(r\"C:\\Users\\udit sharma\\Desktop\\Aut\\Data Mining and Machine Learning\\Assignment 2 Dataset\\Sales_Transactions_Dataset_Weekly.csv\")\n",
    "\n",
    "# print(data_raw.head())\n",
    "# print(data_raw.shape)\n",
    "# pd.DataFrame(data_raw).to_numpy()\n",
    "# print(data_raw._get_numeric_data())\n",
    "data_num=data_raw._get_numeric_data()\n",
    "# print(data_raw)\n",
    "# print(data_raw.dtype())\n",
    "data_emb=TSNE(2).fit_transform(data_num)\n",
    "print(data_emb)"
   ]
  },
  {
   "cell_type": "code",
   "execution_count": null,
   "metadata": {},
   "outputs": [],
   "source": []
  }
 ],
 "metadata": {
  "kernelspec": {
   "display_name": "Python 3",
   "language": "python",
   "name": "python3"
  },
  "language_info": {
   "codemirror_mode": {
    "name": "ipython",
    "version": 3
   },
   "file_extension": ".py",
   "mimetype": "text/x-python",
   "name": "python",
   "nbconvert_exporter": "python",
   "pygments_lexer": "ipython3",
   "version": "3.7.6"
  }
 },
 "nbformat": 4,
 "nbformat_minor": 4
}
